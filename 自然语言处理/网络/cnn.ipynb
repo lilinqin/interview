{
 "cells": [
  {
   "cell_type": "markdown",
   "metadata": {},
   "source": [
    "## CNN"
   ]
  },
  {
   "cell_type": "code",
   "execution_count": 1,
   "metadata": {},
   "outputs": [
    {
     "name": "stdout",
     "output_type": "stream",
     "text": [
      "2693\n"
     ]
    }
   ],
   "source": [
    "original = 861925\n",
    "final = 2693\n",
    "\n",
    "strides = [5,2,2,2,2,2,2]\n",
    "ks = [10,3,3,3,3,2,2]\n",
    "def cnt(num, stride, k):\n",
    "    return (num-k) //stride + 1\n",
    "\n",
    "for i in range(7):\n",
    "    original = cnt(original, strides[i], ks[i])\n",
    "\n",
    "print(original)"
   ]
  }
 ],
 "metadata": {
  "interpreter": {
   "hash": "cc6d3d5f61bfe62bf184ea5ea0eac0593cecefcf5a700c232598549fb9e65d86"
  },
  "kernelspec": {
   "display_name": "Python 3.8.12 64-bit ('pt': conda)",
   "language": "python",
   "name": "python3"
  },
  "language_info": {
   "codemirror_mode": {
    "name": "ipython",
    "version": 3
   },
   "file_extension": ".py",
   "mimetype": "text/x-python",
   "name": "python",
   "nbconvert_exporter": "python",
   "pygments_lexer": "ipython3",
   "version": "3.8.12"
  },
  "orig_nbformat": 4
 },
 "nbformat": 4,
 "nbformat_minor": 2
}
