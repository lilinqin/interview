{
 "cells": [
  {
   "cell_type": "markdown",
   "metadata": {},
   "source": [
    "异或"
   ]
  },
  {
   "cell_type": "code",
   "execution_count": 1,
   "metadata": {},
   "outputs": [
    {
     "name": "stdout",
     "output_type": "stream",
     "text": [
      "13\n",
      "0\n"
     ]
    }
   ],
   "source": [
    "n = 13\n",
    "print(0^n)\n",
    "print(n^n)"
   ]
  },
  {
   "cell_type": "code",
   "execution_count": 2,
   "metadata": {},
   "outputs": [
    {
     "data": {
      "text/plain": [
       "(23, 13)"
      ]
     },
     "execution_count": 2,
     "metadata": {},
     "output_type": "execute_result"
    }
   ],
   "source": [
    "# 不用额外变量交换两个数\n",
    "a, b = 13, 23\n",
    "a = a ^ b\n",
    "b = a ^ b\n",
    "a = a ^ b\n",
    "a, b"
   ]
  },
  {
   "cell_type": "markdown",
   "metadata": {},
   "source": [
    "一个数组中有一种数出现了奇数次，其他数都出现了偶数次，怎么找到这一个数"
   ]
  },
  {
   "cell_type": "code",
   "execution_count": 4,
   "metadata": {},
   "outputs": [
    {
     "data": {
      "text/plain": [
       "1"
      ]
     },
     "execution_count": 4,
     "metadata": {},
     "output_type": "execute_result"
    }
   ],
   "source": [
    "def oddTimesNum(arr):\n",
    "    oddnum = 0\n",
    "    for num in arr:\n",
    "        oddnum ^= num\n",
    "    return oddnum\n",
    "\n",
    "a = [1,1,1,2,2,3,3]\n",
    "oddTimesNum(a)"
   ]
  },
  {
   "cell_type": "markdown",
   "metadata": {},
   "source": [
    "最低位1"
   ]
  },
  {
   "cell_type": "code",
   "execution_count": 4,
   "metadata": {},
   "outputs": [
    {
     "data": {
      "text/plain": [
       "16"
      ]
     },
     "execution_count": 4,
     "metadata": {},
     "output_type": "execute_result"
    }
   ],
   "source": [
    "n = 16\n",
    "n & (~n + 1)"
   ]
  },
  {
   "cell_type": "markdown",
   "metadata": {},
   "source": [
    "一个数组中有两种数出现了奇数次，其他数都出现了偶数次，怎么找到这两个数"
   ]
  },
  {
   "cell_type": "code",
   "execution_count": 5,
   "metadata": {},
   "outputs": [
    {
     "data": {
      "text/plain": [
       "(2, 1)"
      ]
     },
     "execution_count": 5,
     "metadata": {},
     "output_type": "execute_result"
    }
   ],
   "source": [
    "def twoOddTimesNum(arr):\n",
    "    odd1, odd2 = 0, 0\n",
    "    for num in arr:\n",
    "        odd1 ^= num\n",
    "    rightOne = odd1 & (~odd1 + 1)\n",
    "    for num in arr:\n",
    "        if num & rightOne == 0:\n",
    "            odd2 ^= num\n",
    "    return odd2, odd1 ^ odd2\n",
    "\n",
    "a = [1,1,1,2,2,3,2,3]\n",
    "twoOddTimesNum(a)"
   ]
  },
  {
   "cell_type": "code",
   "execution_count": null,
   "metadata": {},
   "outputs": [],
   "source": []
  }
 ],
 "metadata": {
  "interpreter": {
   "hash": "cc6d3d5f61bfe62bf184ea5ea0eac0593cecefcf5a700c232598549fb9e65d86"
  },
  "kernelspec": {
   "display_name": "Python 3.8.12 64-bit ('pt': conda)",
   "language": "python",
   "name": "python3"
  },
  "language_info": {
   "codemirror_mode": {
    "name": "ipython",
    "version": 3
   },
   "file_extension": ".py",
   "mimetype": "text/x-python",
   "name": "python",
   "nbconvert_exporter": "python",
   "pygments_lexer": "ipython3",
   "version": "3.8.12"
  },
  "orig_nbformat": 4
 },
 "nbformat": 4,
 "nbformat_minor": 2
}
