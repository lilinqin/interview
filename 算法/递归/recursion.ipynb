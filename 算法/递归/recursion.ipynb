{
 "cells": [
  {
   "cell_type": "markdown",
   "metadata": {},
   "source": [
    "## 递归\n",
    "\n",
    "主定理: $T(N) = a*T(N/b) + O(N^d)$\n",
    "\n",
    "log(b,a) > d --> O(N^log(b,a))\n",
    "\n",
    "log(b,a) = d --> O(N^d*logN)\n",
    "\n",
    "log(b,a) < d --> O(N^d)"
   ]
  },
  {
   "cell_type": "code",
   "execution_count": 3,
   "metadata": {},
   "outputs": [
    {
     "data": {
      "text/plain": [
       "6"
      ]
     },
     "execution_count": 3,
     "metadata": {},
     "output_type": "execute_result"
    }
   ],
   "source": [
    "def getMax(arr, L, R):\n",
    "    if L == R:\n",
    "        return arr[L]\n",
    "    mid = L + (R - L) // 2\n",
    "    leftMax = getMax(arr, L, mid)\n",
    "    rightMax = getMax(arr, mid+1, R)\n",
    "    return max(leftMax, rightMax)\n",
    "\n",
    "a = [1,2,3,4,5,6,0]\n",
    "getMax(a,0,len(a)-1)"
   ]
  },
  {
   "cell_type": "code",
   "execution_count": null,
   "metadata": {},
   "outputs": [],
   "source": []
  }
 ],
 "metadata": {
  "interpreter": {
   "hash": "cc6d3d5f61bfe62bf184ea5ea0eac0593cecefcf5a700c232598549fb9e65d86"
  },
  "kernelspec": {
   "display_name": "Python 3.8.12 64-bit ('pt': conda)",
   "language": "python",
   "name": "python3"
  },
  "language_info": {
   "codemirror_mode": {
    "name": "ipython",
    "version": 3
   },
   "file_extension": ".py",
   "mimetype": "text/x-python",
   "name": "python",
   "nbconvert_exporter": "python",
   "pygments_lexer": "ipython3",
   "version": "3.8.12"
  },
  "orig_nbformat": 4
 },
 "nbformat": 4,
 "nbformat_minor": 2
}
