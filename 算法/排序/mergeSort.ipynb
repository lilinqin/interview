{
 "cells": [
  {
   "cell_type": "markdown",
   "metadata": {},
   "source": [
    "## 归并排序\n",
    "时间复杂度： $O(NlogN)$ <br>\n",
    "空间复杂读： $O(N)$"
   ]
  },
  {
   "cell_type": "code",
   "execution_count": 1,
   "metadata": {},
   "outputs": [
    {
     "data": {
      "text/plain": [
       "[1, 2, 2, 3, 5, 6, 444, 888]"
      ]
     },
     "execution_count": 1,
     "metadata": {},
     "output_type": "execute_result"
    }
   ],
   "source": [
    "def merge(arr, l, mid, r):\n",
    "    temp = [0] * (r-l+1)\n",
    "    p1 = l\n",
    "    p2 = mid + 1\n",
    "    i = 0\n",
    "    while p1 <= mid and p2 <= r:\n",
    "        if arr[p1] > arr[p2]:\n",
    "            temp[i] = arr[p2]\n",
    "            p2 += 1\n",
    "        else:\n",
    "            temp[i] = arr[p1]\n",
    "            p1 += 1\n",
    "        i += 1\n",
    "    \n",
    "    while p1 <= mid:\n",
    "        temp[i] = arr[p1]\n",
    "        i += 1\n",
    "        p1 += 1\n",
    "    \n",
    "    while p2 <= r:\n",
    "        temp[i] = arr[p2]\n",
    "        p2 += 1\n",
    "        i += 1\n",
    "    \n",
    "    for j in range(l,r+1):\n",
    "        arr[j] = temp[j-l]\n",
    "\n",
    "def mergeSortHelp(arr, l, r):\n",
    "    if l == r:\n",
    "        return\n",
    "    mid = l + (r - l) // 2\n",
    "    mergeSortHelp(arr, l, mid)\n",
    "    mergeSortHelp(arr, mid+1, r)\n",
    "    merge(arr, l, mid, r)\n",
    "\n",
    "\n",
    "def mergeSort(arr):\n",
    "    if not arr or len(arr) < 2:\n",
    "        return\n",
    "    mergeSortHelp(arr, 0, len(arr)-1)\n",
    "\n",
    "a = [1,3,2,6,888,444,2,5]\n",
    "mergeSort(a)\n",
    "a"
   ]
  },
  {
   "cell_type": "markdown",
   "metadata": {},
   "source": [
    "### 小和问题\n",
    "在一个数组中，每一个数左边比当前数小的数累加起来，叫做这个数组的小和。是不稳定排序\n"
   ]
  },
  {
   "cell_type": "code",
   "execution_count": 4,
   "metadata": {},
   "outputs": [
    {
     "data": {
      "text/plain": [
       "16"
      ]
     },
     "execution_count": 4,
     "metadata": {},
     "output_type": "execute_result"
    }
   ],
   "source": [
    "def merge(arr, l, mid, r):\n",
    "    temp = [0] * (r-l+1)\n",
    "    p1 = l\n",
    "    p2 = mid + 1\n",
    "    i = 0\n",
    "    res = 0\n",
    "    while p1 <= mid and p2 <= r:\n",
    "        if arr[p1] >= arr[p2]:\n",
    "            temp[i] = arr[p2]\n",
    "            p2 += 1\n",
    "        else:\n",
    "            temp[i] = arr[p1]\n",
    "            res += arr[p1] * (r - p2 + 1)\n",
    "            p1 += 1\n",
    "        i += 1\n",
    "    \n",
    "    while p1 <= mid:\n",
    "        temp[i] = arr[p1]\n",
    "        \n",
    "        i += 1\n",
    "        p1 += 1\n",
    "    \n",
    "    while p2 <= r:\n",
    "        temp[i] = arr[p2]\n",
    "        p2 += 1\n",
    "        i += 1\n",
    "    \n",
    "    for j in range(l,r+1):\n",
    "        arr[j] = temp[j-l]\n",
    "    \n",
    "    return res\n",
    "\n",
    "def mergeSortHelp(arr, l, r):\n",
    "    if l == r:\n",
    "        return 0\n",
    "    mid = l + (r - l) // 2\n",
    "    return mergeSortHelp(arr, l, mid) + mergeSortHelp(arr, mid+1, r) + merge(arr, l, mid, r)\n",
    "\n",
    "\n",
    "def mergeSort(arr):\n",
    "    if not arr or len(arr) < 2:\n",
    "        return 0\n",
    "    return mergeSortHelp(arr, 0, len(arr)-1)\n",
    "\n",
    "a = [1,3,4,2,5]\n",
    "mergeSort(a)\n"
   ]
  },
  {
   "cell_type": "markdown",
   "metadata": {},
   "source": [
    "### 逆序对\n",
    "在一个数组中，左边的数如果比右边的数大，则两个数构成一个逆序对，请打印所有逆序对。是稳定排序"
   ]
  },
  {
   "cell_type": "code",
   "execution_count": 12,
   "metadata": {},
   "outputs": [
    {
     "name": "stdout",
     "output_type": "stream",
     "text": [
      "5 4\n",
      "4 2\n",
      "5 2\n",
      "3 1\n",
      "2 1\n",
      "4 1\n",
      "5 1\n",
      "4 3\n",
      "5 3\n"
     ]
    },
    {
     "data": {
      "text/plain": [
       "[1, 2, 3, 4, 5]"
      ]
     },
     "execution_count": 12,
     "metadata": {},
     "output_type": "execute_result"
    }
   ],
   "source": [
    "def merge(arr, l, mid, r):\n",
    "    temp = [0] * (r-l+1)\n",
    "    p1 = l\n",
    "    p2 = mid + 1\n",
    "    i = 0\n",
    "    while p1 <= mid and p2 <= r:\n",
    "        if arr[p1] > arr[p2]:\n",
    "            temp[i] = arr[p2]\n",
    "            for k in range(p1,mid+1):\n",
    "                print(arr[k], arr[p2])\n",
    "            p2 += 1\n",
    "        else:\n",
    "            temp[i] = arr[p1]\n",
    "            p1 += 1\n",
    "        i += 1\n",
    "    \n",
    "    while p1 <= mid:\n",
    "        temp[i] = arr[p1]\n",
    "        i += 1\n",
    "        p1 += 1\n",
    "    \n",
    "    while p2 <= r:\n",
    "        p2 += 1\n",
    "        i += 1\n",
    "    \n",
    "    for j in range(l,r+1):\n",
    "        arr[j] = temp[j-l]\n",
    "\n",
    "def mergeSortHelp(arr, l, r):\n",
    "    if l == r:\n",
    "        return\n",
    "    mid = l + (r - l) // 2\n",
    "    mergeSortHelp(arr, l, mid)\n",
    "    mergeSortHelp(arr, mid+1, r)\n",
    "    merge(arr, l, mid, r)\n",
    "\n",
    "\n",
    "def mergeSort(arr):\n",
    "    if not arr or len(arr) < 2:\n",
    "        return\n",
    "    mergeSortHelp(arr, 0, len(arr)-1)\n",
    "\n",
    "a = [5,4,2,3,1]\n",
    "mergeSort(a)\n",
    "a"
   ]
  },
  {
   "cell_type": "code",
   "execution_count": null,
   "metadata": {},
   "outputs": [],
   "source": []
  }
 ],
 "metadata": {
  "interpreter": {
   "hash": "cc6d3d5f61bfe62bf184ea5ea0eac0593cecefcf5a700c232598549fb9e65d86"
  },
  "kernelspec": {
   "display_name": "Python 3.8.12 64-bit ('pt': conda)",
   "language": "python",
   "name": "python3"
  },
  "language_info": {
   "codemirror_mode": {
    "name": "ipython",
    "version": 3
   },
   "file_extension": ".py",
   "mimetype": "text/x-python",
   "name": "python",
   "nbconvert_exporter": "python",
   "pygments_lexer": "ipython3",
   "version": "3.8.12"
  },
  "orig_nbformat": 4
 },
 "nbformat": 4,
 "nbformat_minor": 2
}
