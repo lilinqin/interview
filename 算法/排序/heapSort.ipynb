{
 "cells": [
  {
   "cell_type": "markdown",
   "metadata": {},
   "source": [
    "## 堆\n",
    "1. 堆结构就是用数组实现的完全二叉树结构 \n",
    "2. 完全二叉树中如果每棵子树的最大值都在顶部就是大根堆 \n",
    "3. 完全二叉树中如果每棵子树的最小值都在顶部就是小根堆 \n",
    "4. 优先级队列结构，就是堆结构"
   ]
  },
  {
   "cell_type": "markdown",
   "metadata": {},
   "source": [
    "### 堆排序 \n",
    "1. 先让整个数组都变成大根堆结构，建立堆的过程: \n",
    "   * 从上到下的方法，时间复杂度为O(N*logN) \n",
    "   * 从下到上的方法，时间复杂度为O(N) \n",
    "2. 把堆的最大值和堆末尾的值交换，然后减少堆的大小之后，再去调 整堆，一直周而复始，时间复杂度为O(N*logN) \n",
    "3. 堆的大小减小成0之后，排序完成"
   ]
  },
  {
   "cell_type": "code",
   "execution_count": 5,
   "metadata": {},
   "outputs": [
    {
     "data": {
      "text/plain": [
       "[2, 3, 4, 5, 6, 8]"
      ]
     },
     "execution_count": 5,
     "metadata": {},
     "output_type": "execute_result"
    }
   ],
   "source": [
    "# 从上到下，看看就行\n",
    "def heapSort(arr):\n",
    "    def heapInsert(arr, index):\n",
    "        while index >= 0 and (index - 1) // 2 >= 0 and arr[index] > arr[(index - 1) // 2]:\n",
    "            arr[index], arr[(index - 1) // 2] = arr[(index - 1) // 2], arr[index]\n",
    "            index = (index - 1) // 2\n",
    "\n",
    "    def heapify(arr, index, size):\n",
    "        left = index * 2 + 1\n",
    "        while left < size:\n",
    "            largest = left + 1 if left + 1 < size and arr[left+1] > arr[left] else left\n",
    "            largest = largest if arr[largest] > arr[index] else index\n",
    "            if largest == index:\n",
    "                break\n",
    "            arr[largest], arr[index] = arr[index], arr[largest]\n",
    "            index = largest\n",
    "            left = index * 2 + 1\n",
    "\n",
    "    if not arr or len(arr) < 2:\n",
    "        return\n",
    "    size = len(arr)\n",
    "    for i in range(len(arr)):\n",
    "        heapInsert(arr,i)\n",
    "    arr[0], arr[size-1] = arr[size-1], arr[0]\n",
    "    size -= 1\n",
    "    while size > 0:\n",
    "        heapify(arr,0,size)\n",
    "        arr[0], arr[size-1] = arr[size-1], arr[0]\n",
    "        size -= 1\n",
    "\n",
    "a = [3,2,5,8,4,6]\n",
    "heapSort(a)\n",
    "a"
   ]
  },
  {
   "cell_type": "code",
   "execution_count": 7,
   "metadata": {},
   "outputs": [
    {
     "data": {
      "text/plain": [
       "[2, 3, 4, 5, 6, 8]"
      ]
     },
     "execution_count": 7,
     "metadata": {},
     "output_type": "execute_result"
    }
   ],
   "source": [
    "# 从下到上\n",
    "def heapSort(arr):\n",
    "    def heapify(arr, index, size):\n",
    "        left = index * 2 + 1\n",
    "        while left < size:\n",
    "            largest = left + 1 if left + 1 < size and arr[left+1] > arr[left] else left\n",
    "            largest = largest if arr[largest] > arr[index] else index\n",
    "            if largest == index:\n",
    "                break\n",
    "            arr[largest], arr[index] = arr[index], arr[largest]\n",
    "            index = largest\n",
    "            left = index * 2 + 1\n",
    "\n",
    "    if not arr or len(arr) < 2:\n",
    "        return\n",
    "        \n",
    "    size = len(arr)\n",
    "    for i in range(len(arr)//2-1, -1, -1):\n",
    "        heapify(arr, i, size)\n",
    "    arr[0], arr[size-1] = arr[size-1], arr[0]\n",
    "    size -= 1\n",
    "    while size > 0:\n",
    "        heapify(arr,0,size)\n",
    "        arr[0], arr[size-1] = arr[size-1], arr[0]\n",
    "        size -= 1\n",
    "\n",
    "a = [3,2,5,8,4,6]\n",
    "heapSort(a)\n",
    "a"
   ]
  },
  {
   "cell_type": "markdown",
   "metadata": {},
   "source": [
    "### python中堆的使用\n",
    "* heappush(heap, x) 将x压入堆中 \n",
    "* heappop(heap) 从堆中弹出最小的元素\n",
    "* heapify(heap) 让列表具备堆特征\n",
    "* heapreplace(heap, x) 弹出最小的元素，并将x压入堆中\n",
    "* nlargest(n, iter) 返回iter中n个最大的元素\n",
    "* nsmallest(n, iter) 返回iter中n个最小的元素\n"
   ]
  },
  {
   "cell_type": "markdown",
   "metadata": {},
   "source": [
    "已知一个几乎有序的数组，几乎有序是指，如果把数组排好顺序的话，每个元素移动的距离可以不超过k，并且k相对于数组来说比较小。请选择一个合适的 排序算法针对这个数据进行排序。"
   ]
  },
  {
   "cell_type": "code",
   "execution_count": 10,
   "metadata": {},
   "outputs": [
    {
     "data": {
      "text/plain": [
       "[1, 2, 3, 4, 5, 6]"
      ]
     },
     "execution_count": 10,
     "metadata": {},
     "output_type": "execute_result"
    }
   ],
   "source": [
    "import heapq\n",
    "\n",
    "def sortArrLessK(arr, k):\n",
    "    heap = []\n",
    "    for i in range(min(len(arr),k)):\n",
    "        heapq.heappush(heap, arr[i])\n",
    "    j = 0\n",
    "    for i in range(min(len(arr),k), len(arr)):\n",
    "        heapq.heappush(heap, arr[i])\n",
    "        arr[j] = heapq.heappop(heap)\n",
    "        j += 1\n",
    "    while heap:\n",
    "        arr[j] = heapq.heappop(heap)\n",
    "        j += 1\n",
    "\n",
    "a = [1,3,2,4,6,5]\n",
    "sortArrLessK(a,3)\n",
    "a"
   ]
  },
  {
   "cell_type": "code",
   "execution_count": null,
   "metadata": {},
   "outputs": [],
   "source": []
  }
 ],
 "metadata": {
  "interpreter": {
   "hash": "cc6d3d5f61bfe62bf184ea5ea0eac0593cecefcf5a700c232598549fb9e65d86"
  },
  "kernelspec": {
   "display_name": "Python 3.8.12 64-bit ('pt': conda)",
   "language": "python",
   "name": "python3"
  },
  "language_info": {
   "codemirror_mode": {
    "name": "ipython",
    "version": 3
   },
   "file_extension": ".py",
   "mimetype": "text/x-python",
   "name": "python",
   "nbconvert_exporter": "python",
   "pygments_lexer": "ipython3",
   "version": "3.8.12"
  },
  "orig_nbformat": 4
 },
 "nbformat": 4,
 "nbformat_minor": 2
}
