{
 "cells": [
  {
   "cell_type": "markdown",
   "metadata": {},
   "source": [
    "## 快排\n"
   ]
  },
  {
   "cell_type": "markdown",
   "metadata": {},
   "source": [
    "荷兰国旗问题 <br>\n",
    "问题一 <br>\n",
    "给定一个数组arr，和一个数num，请把小于等于num的数放在数 组的左边，大于num的 数放在数组的右边。要求额外空间复杂度O(1)，时间复杂度O(N)"
   ]
  },
  {
   "cell_type": "code",
   "execution_count": null,
   "metadata": {},
   "outputs": [],
   "source": [
    "def partition2(arr, num):\n",
    "    i = 0\n",
    "    p = -1\n",
    "    while i < len(arr):\n",
    "        if arr[i] <= num:\n",
    "            p += 1\n",
    "            arr[i], arr[p] = arr[p], arr[i]   \n",
    "        i += 1\n",
    "\n",
    "a = [3,2,8,4,6,1]\n",
    "partition2(a, 3)\n",
    "a"
   ]
  },
  {
   "cell_type": "markdown",
   "metadata": {},
   "source": [
    "问题二(荷兰国旗问题) \n",
    "给定一个数组arr，和一个数num，请把小于num的数放在数组的 左边，等于num的数放 在数组的中间，大于num的数放在数组的 右边。要求额外空间复杂度O(1)，时间复杂度 O(N)"
   ]
  },
  {
   "cell_type": "code",
   "execution_count": null,
   "metadata": {},
   "outputs": [],
   "source": [
    "def partition3(arr, num):\n",
    "    i = 0\n",
    "    p1, p2 = -1, len(arr)\n",
    "    while i < p2:\n",
    "        if arr[i] < num:\n",
    "            p1 += 1\n",
    "            arr[i], arr[p1] = arr[p1], arr[i]     \n",
    "            i += 1\n",
    "        elif arr[i] > num:\n",
    "            p2 -= 1\n",
    "            arr[i], arr[p2] = arr[p2], arr[i]\n",
    "        else:\n",
    "            i += 1\n",
    "\n",
    "a = [3,2,8,4,6,3,1]\n",
    "partition3(a, 3)\n",
    "a"
   ]
  },
  {
   "cell_type": "code",
   "execution_count": 2,
   "metadata": {},
   "outputs": [
    {
     "name": "stdout",
     "output_type": "stream",
     "text": [
      "7 7 2 6 1 4 4 6 2 1 1 9 10 2 7 2 6 10 8 1 "
     ]
    }
   ],
   "source": [
    "import random\n",
    "for _ in range(20):\n",
    "    print(random.randint(1,10),end=' ')\n",
    "\n",
    "    "
   ]
  },
  {
   "cell_type": "code",
   "execution_count": 4,
   "metadata": {},
   "outputs": [
    {
     "data": {
      "text/plain": [
       "[1, 2, 3, 3, 4, 6, 8]"
      ]
     },
     "execution_count": 4,
     "metadata": {},
     "output_type": "execute_result"
    }
   ],
   "source": [
    "def partition(arr, l, r):\n",
    "    less = l - 1\n",
    "    more = r\n",
    "    i = l\n",
    "    while i < more:\n",
    "        if arr[i] < arr[r]:\n",
    "            less += 1\n",
    "            arr[less], arr[i] = arr[i], arr[less]\n",
    "            i += 1\n",
    "        elif arr[i] > arr[r]:\n",
    "            more -= 1\n",
    "            arr[i], arr[more] = arr[more], arr[i]\n",
    "        else:\n",
    "            i += 1\n",
    "    arr[more], arr[r] = arr[r], arr[more]\n",
    "    return less, more + 1\n",
    "\n",
    "def quickSortHelp(arr, l, r):\n",
    "    if l < r:\n",
    "        idx = random.randint(l,r)\n",
    "        arr[r], arr[idx] = arr[idx], arr[r]\n",
    "        p = partition(arr, l, r)\n",
    "        quickSortHelp(arr, l, p[0])\n",
    "        quickSortHelp(arr, p[1], r)\n",
    "\n",
    "\n",
    "\n",
    "def quickSort(arr):\n",
    "    if not arr or len(arr) < 2:\n",
    "        return arr\n",
    "    quickSortHelp(arr, 0, len(arr)-1)\n",
    "\n",
    "a = [3,2,8,4,6,3,1]\n",
    "quickSort(a)\n",
    "a"
   ]
  },
  {
   "cell_type": "code",
   "execution_count": 16,
   "metadata": {},
   "outputs": [
    {
     "data": {
      "text/plain": [
       "[1, 2]"
      ]
     },
     "execution_count": 16,
     "metadata": {},
     "output_type": "execute_result"
    }
   ],
   "source": [
    "def quickSort(arr, l, r):\n",
    "    if l >= r:\n",
    "        return \n",
    "    x = arr[(l+r)//2]\n",
    "    i = l - 1\n",
    "    j = r + 1\n",
    "    while i < j:\n",
    "        i += 1\n",
    "        while arr[i] < x:\n",
    "            i += 1\n",
    "        j -= 1\n",
    "        while arr[j] > x:\n",
    "            j -= 1\n",
    "        if i < j:\n",
    "            arr[i], arr[j] = arr[j], arr[i]\n",
    "\n",
    "    quickSort(arr, l, j)\n",
    "    quickSort(arr, j+1, r)\n",
    "\n",
    "a = [1,2]\n",
    "quickSort(a, 0, len(a)-1)\n",
    "a"
   ]
  },
  {
   "cell_type": "code",
   "execution_count": null,
   "metadata": {},
   "outputs": [],
   "source": []
  }
 ],
 "metadata": {
  "interpreter": {
   "hash": "cc6d3d5f61bfe62bf184ea5ea0eac0593cecefcf5a700c232598549fb9e65d86"
  },
  "kernelspec": {
   "display_name": "Python 3.8.12 64-bit ('pt': conda)",
   "language": "python",
   "name": "python3"
  },
  "language_info": {
   "codemirror_mode": {
    "name": "ipython",
    "version": 3
   },
   "file_extension": ".py",
   "mimetype": "text/x-python",
   "name": "python",
   "nbconvert_exporter": "python",
   "pygments_lexer": "ipython3",
   "version": "3.8.12"
  },
  "orig_nbformat": 4
 },
 "nbformat": 4,
 "nbformat_minor": 2
}
