{
 "cells": [
  {
   "cell_type": "markdown",
   "metadata": {},
   "source": [
    "## 二分查找\n",
    "二分查找存在"
   ]
  },
  {
   "cell_type": "code",
   "execution_count": 5,
   "metadata": {},
   "outputs": [
    {
     "data": {
      "text/plain": [
       "False"
      ]
     },
     "execution_count": 5,
     "metadata": {},
     "output_type": "execute_result"
    }
   ],
   "source": [
    "def bsexist(arr, num):\n",
    "    if not arr or len(arr) == 0:\n",
    "        return False\n",
    "    l, r = 0, len(arr) -1\n",
    "    while l <= r:\n",
    "        mid = l + (r - l) // 2\n",
    "        if arr[mid] == num:\n",
    "            return True\n",
    "        elif arr[mid] < num:\n",
    "            l = mid + 1\n",
    "        else:\n",
    "            r = mid - 1\n",
    "    return False\n",
    "\n",
    "a = [1,2,3,4,5,6]\n",
    "bsexist(a,0)"
   ]
  },
  {
   "cell_type": "markdown",
   "metadata": {},
   "source": [
    "左边界，大于等于num的最左位置"
   ]
  },
  {
   "cell_type": "code",
   "execution_count": 1,
   "metadata": {},
   "outputs": [
    {
     "data": {
      "text/plain": [
       "4"
      ]
     },
     "execution_count": 1,
     "metadata": {},
     "output_type": "execute_result"
    }
   ],
   "source": [
    "def bsLeftBound(arr, num):\n",
    "    l, r = 0, len(arr) - 1\n",
    "    while l < r:\n",
    "        mid = (l + r) // 2\n",
    "        if arr[mid] >= num:\n",
    "            r = mid\n",
    "        else:\n",
    "            l = mid + 1\n",
    "    return l\n",
    "\n",
    "a = [1,2,3,4,5,5,5,6]\n",
    "bsLeftBound(a,5)"
   ]
  },
  {
   "cell_type": "markdown",
   "metadata": {},
   "source": [
    "右边界，小于等于num的最右位置"
   ]
  },
  {
   "cell_type": "code",
   "execution_count": 2,
   "metadata": {},
   "outputs": [
    {
     "data": {
      "text/plain": [
       "6"
      ]
     },
     "execution_count": 2,
     "metadata": {},
     "output_type": "execute_result"
    }
   ],
   "source": [
    "def bsRightBound(arr, num):\n",
    "    l, r = 0, len(arr) - 1\n",
    "    while l < r:\n",
    "        mid = (l + r + 1) // 2\n",
    "        if arr[mid] <= num:\n",
    "            l = mid \n",
    "        else:\n",
    "            r = mid - 1\n",
    "    return l\n",
    "\n",
    "a = [1,1,2,3,4,5,5,6]\n",
    "bsRightBound(a,5)"
   ]
  },
  {
   "cell_type": "markdown",
   "metadata": {},
   "source": [
    "局部最小值"
   ]
  },
  {
   "cell_type": "code",
   "execution_count": 4,
   "metadata": {},
   "outputs": [
    {
     "data": {
      "text/plain": [
       "4"
      ]
     },
     "execution_count": 4,
     "metadata": {},
     "output_type": "execute_result"
    }
   ],
   "source": [
    "def localMin(arr):\n",
    "    l, r = 0, len(arr) - 1\n",
    "    if arr[l] < arr[l+1]:\n",
    "        return l\n",
    "    if arr[r] < arr[r-1]:\n",
    "        return r\n",
    "    while l < r:\n",
    "        mid = l + (r - l) // 2\n",
    "        if arr[mid] < arr[mid-1] and arr[mid] < arr[mid+1]:\n",
    "            return mid\n",
    "        elif arr[mid] >= arr[mid+1]:\n",
    "            l = mid + 1\n",
    "        elif arr[mid] >= arr[mid-1]:\n",
    "            r = mid - 1\n",
    "\n",
    "a = [5,4,3,2,1,2,3,4,5]\n",
    "localMin(a)\n"
   ]
  },
  {
   "cell_type": "code",
   "execution_count": null,
   "metadata": {},
   "outputs": [],
   "source": []
  }
 ],
 "metadata": {
  "interpreter": {
   "hash": "cc6d3d5f61bfe62bf184ea5ea0eac0593cecefcf5a700c232598549fb9e65d86"
  },
  "kernelspec": {
   "display_name": "Python 3.8.12 64-bit ('pt': conda)",
   "language": "python",
   "name": "python3"
  },
  "language_info": {
   "codemirror_mode": {
    "name": "ipython",
    "version": 3
   },
   "file_extension": ".py",
   "mimetype": "text/x-python",
   "name": "python",
   "nbconvert_exporter": "python",
   "pygments_lexer": "ipython3",
   "version": "3.8.12"
  },
  "orig_nbformat": 4
 },
 "nbformat": 4,
 "nbformat_minor": 2
}
